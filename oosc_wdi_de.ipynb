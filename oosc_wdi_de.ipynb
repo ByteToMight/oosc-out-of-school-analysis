{
 "cells": [
  {
   "cell_type": "markdown",
   "id": "b9d9e20a",
   "metadata": {},
   "source": [
    "# 0️⃣ Projektbeschreibung\n",
    "\n",
    "## 📊 Machine Learning Portfolio Project – Out-of-School Analysis\n",
    "\n",
    "### 🎓 Global Out-of-School Children Analysis (1970–2023)\n",
    "\n",
    "Dieses Projekt analysiert den World Bank Indikator **SE.PRM.UNER.ZS**, der den Anteil von Grundschulkindern zeigt, die **nicht eingeschult** sind (Out of School Children – OOSC).\n",
    "\n",
    "---\n",
    "\n",
    "### 🎯 Projektziele:\n",
    "1. Entwicklung einer End-to-End Data Analysis Pipeline\n",
    "2. Anwendung von Data Wrangling, EDA und ML-Modellierung\n",
    "3. Erstellung eines GitHub-tauglichen Portfolio-Projekts für Bewerbungen im Data Science / ML-Bereich\n",
    "\n",
    "---\n",
    "\n",
    "### 🔗 Datenquelle:\n",
    "- World Bank World Development Indicators (WDI)\n"
   ]
  },
  {
   "cell_type": "markdown",
   "id": "0aaa4c73",
   "metadata": {},
   "source": [
    "# 1️⃣ Importiere Libraries\n",
    "\n",
    "Wir starten mit dem Import aller benötigten Libraries für Datenanalyse, Visualisierung und Machine Learning.\n"
   ]
  },
  {
   "cell_type": "code",
   "execution_count": 14,
   "id": "6a7781a1",
   "metadata": {},
   "outputs": [],
   "source": [
    "import pandas as pd\n",
    "import numpy as np\n",
    "from pathlib import Path\n",
    "import matplotlib.pyplot as plt\n",
    "from sklearn.linear_model import LinearRegression\n",
    "\n",
    "# Notebook-Style\n",
    "plt.style.use(\"seaborn-v0_8\")\n"
   ]
  },
  {
   "cell_type": "markdown",
   "id": "4d212a98",
   "metadata": {},
   "source": [
    "# 2️⃣ Lade OOSC-Daten\n",
    "\n",
    "Wir lesen die World Bank CSV-Datei ein.  \n",
    "**Hinweis:** Die Datei enthält **4 Kopfzeilen mit Metadaten**, die wir mit `skiprows=4` überspringen.\n"
   ]
  },
  {
   "cell_type": "code",
   "execution_count": 15,
   "id": "8a31ca17",
   "metadata": {},
   "outputs": [
    {
     "name": "stdout",
     "output_type": "stream",
     "text": [
      "Shape: (266, 70)\n"
     ]
    },
    {
     "data": {
      "text/html": [
       "<div>\n",
       "<style scoped>\n",
       "    .dataframe tbody tr th:only-of-type {\n",
       "        vertical-align: middle;\n",
       "    }\n",
       "\n",
       "    .dataframe tbody tr th {\n",
       "        vertical-align: top;\n",
       "    }\n",
       "\n",
       "    .dataframe thead th {\n",
       "        text-align: right;\n",
       "    }\n",
       "</style>\n",
       "<table border=\"1\" class=\"dataframe\">\n",
       "  <thead>\n",
       "    <tr style=\"text-align: right;\">\n",
       "      <th></th>\n",
       "      <th>Country Name</th>\n",
       "      <th>Country Code</th>\n",
       "      <th>Indicator Name</th>\n",
       "      <th>Indicator Code</th>\n",
       "      <th>1960</th>\n",
       "      <th>1961</th>\n",
       "      <th>1962</th>\n",
       "      <th>1963</th>\n",
       "      <th>1964</th>\n",
       "      <th>1965</th>\n",
       "      <th>...</th>\n",
       "      <th>2016</th>\n",
       "      <th>2017</th>\n",
       "      <th>2018</th>\n",
       "      <th>2019</th>\n",
       "      <th>2020</th>\n",
       "      <th>2021</th>\n",
       "      <th>2022</th>\n",
       "      <th>2023</th>\n",
       "      <th>2024</th>\n",
       "      <th>Unnamed: 69</th>\n",
       "    </tr>\n",
       "  </thead>\n",
       "  <tbody>\n",
       "    <tr>\n",
       "      <th>0</th>\n",
       "      <td>Aruba</td>\n",
       "      <td>ABW</td>\n",
       "      <td>Children out of school (% of primary school age)</td>\n",
       "      <td>SE.PRM.UNER.ZS</td>\n",
       "      <td>NaN</td>\n",
       "      <td>NaN</td>\n",
       "      <td>NaN</td>\n",
       "      <td>NaN</td>\n",
       "      <td>NaN</td>\n",
       "      <td>NaN</td>\n",
       "      <td>...</td>\n",
       "      <td>NaN</td>\n",
       "      <td>NaN</td>\n",
       "      <td>NaN</td>\n",
       "      <td>NaN</td>\n",
       "      <td>NaN</td>\n",
       "      <td>NaN</td>\n",
       "      <td>NaN</td>\n",
       "      <td>NaN</td>\n",
       "      <td>NaN</td>\n",
       "      <td>NaN</td>\n",
       "    </tr>\n",
       "    <tr>\n",
       "      <th>1</th>\n",
       "      <td>Africa Eastern and Southern</td>\n",
       "      <td>AFE</td>\n",
       "      <td>Children out of school (% of primary school age)</td>\n",
       "      <td>SE.PRM.UNER.ZS</td>\n",
       "      <td>NaN</td>\n",
       "      <td>NaN</td>\n",
       "      <td>NaN</td>\n",
       "      <td>NaN</td>\n",
       "      <td>NaN</td>\n",
       "      <td>NaN</td>\n",
       "      <td>...</td>\n",
       "      <td>NaN</td>\n",
       "      <td>NaN</td>\n",
       "      <td>NaN</td>\n",
       "      <td>NaN</td>\n",
       "      <td>NaN</td>\n",
       "      <td>NaN</td>\n",
       "      <td>NaN</td>\n",
       "      <td>NaN</td>\n",
       "      <td>NaN</td>\n",
       "      <td>NaN</td>\n",
       "    </tr>\n",
       "    <tr>\n",
       "      <th>2</th>\n",
       "      <td>Afghanistan</td>\n",
       "      <td>AFG</td>\n",
       "      <td>Children out of school (% of primary school age)</td>\n",
       "      <td>SE.PRM.UNER.ZS</td>\n",
       "      <td>NaN</td>\n",
       "      <td>NaN</td>\n",
       "      <td>NaN</td>\n",
       "      <td>NaN</td>\n",
       "      <td>NaN</td>\n",
       "      <td>NaN</td>\n",
       "      <td>...</td>\n",
       "      <td>NaN</td>\n",
       "      <td>NaN</td>\n",
       "      <td>NaN</td>\n",
       "      <td>NaN</td>\n",
       "      <td>NaN</td>\n",
       "      <td>NaN</td>\n",
       "      <td>NaN</td>\n",
       "      <td>NaN</td>\n",
       "      <td>NaN</td>\n",
       "      <td>NaN</td>\n",
       "    </tr>\n",
       "    <tr>\n",
       "      <th>3</th>\n",
       "      <td>Africa Western and Central</td>\n",
       "      <td>AFW</td>\n",
       "      <td>Children out of school (% of primary school age)</td>\n",
       "      <td>SE.PRM.UNER.ZS</td>\n",
       "      <td>NaN</td>\n",
       "      <td>NaN</td>\n",
       "      <td>NaN</td>\n",
       "      <td>NaN</td>\n",
       "      <td>NaN</td>\n",
       "      <td>NaN</td>\n",
       "      <td>...</td>\n",
       "      <td>NaN</td>\n",
       "      <td>NaN</td>\n",
       "      <td>NaN</td>\n",
       "      <td>NaN</td>\n",
       "      <td>NaN</td>\n",
       "      <td>NaN</td>\n",
       "      <td>NaN</td>\n",
       "      <td>NaN</td>\n",
       "      <td>NaN</td>\n",
       "      <td>NaN</td>\n",
       "    </tr>\n",
       "    <tr>\n",
       "      <th>4</th>\n",
       "      <td>Angola</td>\n",
       "      <td>AGO</td>\n",
       "      <td>Children out of school (% of primary school age)</td>\n",
       "      <td>SE.PRM.UNER.ZS</td>\n",
       "      <td>NaN</td>\n",
       "      <td>NaN</td>\n",
       "      <td>NaN</td>\n",
       "      <td>NaN</td>\n",
       "      <td>NaN</td>\n",
       "      <td>NaN</td>\n",
       "      <td>...</td>\n",
       "      <td>NaN</td>\n",
       "      <td>NaN</td>\n",
       "      <td>NaN</td>\n",
       "      <td>NaN</td>\n",
       "      <td>NaN</td>\n",
       "      <td>NaN</td>\n",
       "      <td>NaN</td>\n",
       "      <td>NaN</td>\n",
       "      <td>NaN</td>\n",
       "      <td>NaN</td>\n",
       "    </tr>\n",
       "  </tbody>\n",
       "</table>\n",
       "<p>5 rows × 70 columns</p>\n",
       "</div>"
      ],
      "text/plain": [
       "                  Country Name Country Code  \\\n",
       "0                        Aruba          ABW   \n",
       "1  Africa Eastern and Southern          AFE   \n",
       "2                  Afghanistan          AFG   \n",
       "3   Africa Western and Central          AFW   \n",
       "4                       Angola          AGO   \n",
       "\n",
       "                                     Indicator Name  Indicator Code  1960  \\\n",
       "0  Children out of school (% of primary school age)  SE.PRM.UNER.ZS   NaN   \n",
       "1  Children out of school (% of primary school age)  SE.PRM.UNER.ZS   NaN   \n",
       "2  Children out of school (% of primary school age)  SE.PRM.UNER.ZS   NaN   \n",
       "3  Children out of school (% of primary school age)  SE.PRM.UNER.ZS   NaN   \n",
       "4  Children out of school (% of primary school age)  SE.PRM.UNER.ZS   NaN   \n",
       "\n",
       "   1961  1962  1963  1964  1965  ...  2016  2017  2018  2019  2020  2021  \\\n",
       "0   NaN   NaN   NaN   NaN   NaN  ...   NaN   NaN   NaN   NaN   NaN   NaN   \n",
       "1   NaN   NaN   NaN   NaN   NaN  ...   NaN   NaN   NaN   NaN   NaN   NaN   \n",
       "2   NaN   NaN   NaN   NaN   NaN  ...   NaN   NaN   NaN   NaN   NaN   NaN   \n",
       "3   NaN   NaN   NaN   NaN   NaN  ...   NaN   NaN   NaN   NaN   NaN   NaN   \n",
       "4   NaN   NaN   NaN   NaN   NaN  ...   NaN   NaN   NaN   NaN   NaN   NaN   \n",
       "\n",
       "   2022  2023  2024  Unnamed: 69  \n",
       "0   NaN   NaN   NaN          NaN  \n",
       "1   NaN   NaN   NaN          NaN  \n",
       "2   NaN   NaN   NaN          NaN  \n",
       "3   NaN   NaN   NaN          NaN  \n",
       "4   NaN   NaN   NaN          NaN  \n",
       "\n",
       "[5 rows x 70 columns]"
      ]
     },
     "execution_count": 15,
     "metadata": {},
     "output_type": "execute_result"
    }
   ],
   "source": [
    "# Dateipfad\n",
    "csv_file = \"oosc_wdi.csv\"\n",
    "\n",
    "# Laden\n",
    "df = pd.read_csv(csv_file, skiprows=4)\n",
    "print(\"Shape:\", df.shape)\n",
    "df.head()\n"
   ]
  },
  {
   "cell_type": "markdown",
   "id": "c3764643",
   "metadata": {},
   "source": [
    "# 3️⃣ Transformation in Long-Format\n",
    "\n",
    "Die World Bank Daten sind im Wide-Format gespeichert (jedes Jahr als eigene Spalte).  \n",
    "Wir transformieren sie mit `melt()` ins Long-Format:\n",
    "\n",
    "- Jede Zeile = Country-Year Kombination  \n",
    "- Spalten: Country Name, Year, OOSC_rate\n"
   ]
  },
  {
   "cell_type": "code",
   "execution_count": 16,
   "id": "98249336",
   "metadata": {},
   "outputs": [
    {
     "name": "stdout",
     "output_type": "stream",
     "text": [
      "Shape nach Transformation: (5107, 6)\n"
     ]
    },
    {
     "data": {
      "text/html": [
       "<div>\n",
       "<style scoped>\n",
       "    .dataframe tbody tr th:only-of-type {\n",
       "        vertical-align: middle;\n",
       "    }\n",
       "\n",
       "    .dataframe tbody tr th {\n",
       "        vertical-align: top;\n",
       "    }\n",
       "\n",
       "    .dataframe thead th {\n",
       "        text-align: right;\n",
       "    }\n",
       "</style>\n",
       "<table border=\"1\" class=\"dataframe\">\n",
       "  <thead>\n",
       "    <tr style=\"text-align: right;\">\n",
       "      <th></th>\n",
       "      <th>Country Name</th>\n",
       "      <th>Country Code</th>\n",
       "      <th>Indicator Name</th>\n",
       "      <th>Indicator Code</th>\n",
       "      <th>Year</th>\n",
       "      <th>OOSC_rate</th>\n",
       "    </tr>\n",
       "  </thead>\n",
       "  <tbody>\n",
       "    <tr>\n",
       "      <th>2669</th>\n",
       "      <td>Argentina</td>\n",
       "      <td>ARG</td>\n",
       "      <td>Children out of school (% of primary school age)</td>\n",
       "      <td>SE.PRM.UNER.ZS</td>\n",
       "      <td>1970</td>\n",
       "      <td>4.919240</td>\n",
       "    </tr>\n",
       "    <tr>\n",
       "      <th>2680</th>\n",
       "      <td>Bangladesh</td>\n",
       "      <td>BGD</td>\n",
       "      <td>Children out of school (% of primary school age)</td>\n",
       "      <td>SE.PRM.UNER.ZS</td>\n",
       "      <td>1970</td>\n",
       "      <td>50.503681</td>\n",
       "    </tr>\n",
       "    <tr>\n",
       "      <th>2689</th>\n",
       "      <td>Brazil</td>\n",
       "      <td>BRA</td>\n",
       "      <td>Children out of school (% of primary school age)</td>\n",
       "      <td>SE.PRM.UNER.ZS</td>\n",
       "      <td>1970</td>\n",
       "      <td>29.643890</td>\n",
       "    </tr>\n",
       "    <tr>\n",
       "      <th>2693</th>\n",
       "      <td>Botswana</td>\n",
       "      <td>BWA</td>\n",
       "      <td>Children out of school (% of primary school age)</td>\n",
       "      <td>SE.PRM.UNER.ZS</td>\n",
       "      <td>1970</td>\n",
       "      <td>50.468609</td>\n",
       "    </tr>\n",
       "    <tr>\n",
       "      <th>2708</th>\n",
       "      <td>Costa Rica</td>\n",
       "      <td>CRI</td>\n",
       "      <td>Children out of school (% of primary school age)</td>\n",
       "      <td>SE.PRM.UNER.ZS</td>\n",
       "      <td>1970</td>\n",
       "      <td>13.047480</td>\n",
       "    </tr>\n",
       "  </tbody>\n",
       "</table>\n",
       "</div>"
      ],
      "text/plain": [
       "     Country Name Country Code  \\\n",
       "2669    Argentina          ARG   \n",
       "2680   Bangladesh          BGD   \n",
       "2689       Brazil          BRA   \n",
       "2693     Botswana          BWA   \n",
       "2708   Costa Rica          CRI   \n",
       "\n",
       "                                        Indicator Name  Indicator Code  Year  \\\n",
       "2669  Children out of school (% of primary school age)  SE.PRM.UNER.ZS  1970   \n",
       "2680  Children out of school (% of primary school age)  SE.PRM.UNER.ZS  1970   \n",
       "2689  Children out of school (% of primary school age)  SE.PRM.UNER.ZS  1970   \n",
       "2693  Children out of school (% of primary school age)  SE.PRM.UNER.ZS  1970   \n",
       "2708  Children out of school (% of primary school age)  SE.PRM.UNER.ZS  1970   \n",
       "\n",
       "      OOSC_rate  \n",
       "2669   4.919240  \n",
       "2680  50.503681  \n",
       "2689  29.643890  \n",
       "2693  50.468609  \n",
       "2708  13.047480  "
      ]
     },
     "execution_count": 16,
     "metadata": {},
     "output_type": "execute_result"
    }
   ],
   "source": [
    "# Identifiziere Jahres-Spalten\n",
    "year_cols = [c for c in df.columns if c.isdigit()]\n",
    "\n",
    "# Melt (Wide ➔ Long)\n",
    "df_long = df.melt(\n",
    "    id_vars=[\"Country Name\", \"Country Code\", \"Indicator Name\", \"Indicator Code\"],\n",
    "    value_vars=year_cols,\n",
    "    var_name=\"Year\",\n",
    "    value_name=\"OOSC_rate\"\n",
    ")\n",
    "\n",
    "# Typumwandlung\n",
    "df_long[\"Year\"] = df_long[\"Year\"].astype(int)\n",
    "df_long[\"OOSC_rate\"] = pd.to_numeric(df_long[\"OOSC_rate\"], errors=\"coerce\")\n",
    "\n",
    "# Entferne fehlende Werte\n",
    "df_long = df_long.dropna(subset=[\"OOSC_rate\"])\n",
    "\n",
    "print(\"Shape nach Transformation:\", df_long.shape)\n",
    "df_long.head()\n"
   ]
  },
  {
   "cell_type": "markdown",
   "id": "fff52c29",
   "metadata": {},
   "source": [
    "# 4️⃣ Data Quality Check\n",
    "\n",
    "Wir prüfen:\n",
    "- Statistische Kennzahlen der OOSC-Rate\n",
    "- Negative Werte (unmöglich)\n",
    "- Werte über 100 % (Prozentbegrenzung)\n"
   ]
  },
  {
   "cell_type": "code",
   "execution_count": 19,
   "id": "28a5a634",
   "metadata": {},
   "outputs": [
    {
     "name": "stdout",
     "output_type": "stream",
     "text": [
      "Summary Statistics:\n",
      " count    5107.000000\n",
      "mean       12.419547\n",
      "std        16.591574\n",
      "min         0.000000\n",
      "25%         1.570000\n",
      "50%         5.417330\n",
      "75%        15.370537\n",
      "max        89.862869\n",
      "Name: OOSC_rate, dtype: float64\n",
      "\n",
      "Negative Werte: 0\n",
      "Werte über 100%: 0\n"
     ]
    }
   ],
   "source": [
    "print(\"Summary Statistics:\\n\", df_long[\"OOSC_rate\"].describe())\n",
    "\n",
    "# Negative Werte?\n",
    "neg = df_long[df_long[\"OOSC_rate\"] < 0]\n",
    "print(\"\\nNegative Werte:\", neg.shape[0])\n",
    "\n",
    "# Werte > 100%?\n",
    "over = df_long[df_long[\"OOSC_rate\"] > 100]\n",
    "print(\"Werte über 100%:\", over.shape[0])\n"
   ]
  },
  {
   "cell_type": "markdown",
   "id": "1968854c",
   "metadata": {},
   "source": [
    "# 5️⃣ Globale Trends analysieren\n",
    "\n",
    "Wir plotten den weltweiten Durchschnitt der OOSC-Rate über die Zeit, um langfristige Trends zu erkennen.\n"
   ]
  },
  {
   "cell_type": "code",
   "execution_count": 20,
   "id": "4c3557ae",
   "metadata": {},
   "outputs": [
    {
     "data": {
      "image/png": "[encoded data removed]",
      "text/plain": [
       "<Figure size 1000x500 with 1 Axes>"
      ]
     },
     "metadata": {},
     "output_type": "display_data"
    }
   ],
   "source": [
    "# Durchschnittliche OOSC-Rate pro Jahr\n",
    "global_trend = df_long.groupby(\"Year\")[\"OOSC_rate\"].mean()\n",
    "\n",
    "plt.figure(figsize=(10,5))\n",
    "plt.plot(global_trend.index, global_trend.values, marker=\"o\")\n",
    "plt.title(\"Globale Out-of-School-Rate (Ø) über Zeit\")\n",
    "plt.xlabel(\"Jahr\")\n",
    "plt.ylabel(\"OOSC-Rate (%)\")\n",
    "plt.grid(True)\n",
    "plt.show()\n"
   ]
  },
  {
   "cell_type": "markdown",
   "id": "c8dc18c3",
   "metadata": {},
   "source": [
    "# 6️⃣ Verteilung der OOSC-Rate\n",
    "\n",
    "Wir visualisieren die Verteilung der OOSC-Rate über alle Länder und Jahre hinweg.\n"
   ]
  },
  {
   "cell_type": "code",
   "execution_count": 21,
   "id": "d27f83cd",
   "metadata": {},
   "outputs": [
    {
     "data": {
      "image/png": "[encoded data removed]",
      "text/plain": [
       "<Figure size 800x500 with 1 Axes>"
      ]
     },
     "metadata": {},
     "output_type": "display_data"
    }
   ],
   "source": [
    "plt.figure(figsize=(8,5))\n",
    "plt.hist(df_long[\"OOSC_rate\"], bins=30, color=\"skyblue\", edgecolor=\"black\")\n",
    "plt.title(\"Verteilung der OOSC-Rate (alle Länder/Jahre)\")\n",
    "plt.xlabel(\"OOSC-Rate (%)\")\n",
    "plt.ylabel(\"Häufigkeit\")\n",
    "plt.show()\n"
   ]
  },
  {
   "cell_type": "markdown",
   "id": "be9fd219",
   "metadata": {},
   "source": [
    "# 7️⃣ Top-10 Länder im letzten Jahr\n",
    "\n",
    "Wir identifizieren die Länder mit den höchsten OOSC-Raten im zuletzt verfügbaren Jahr.\n"
   ]
  },
  {
   "cell_type": "code",
   "execution_count": 22,
   "id": "8cc5cb11",
   "metadata": {},
   "outputs": [
    {
     "data": {
      "image/png": "[encoded data removed]",
      "text/plain": [
       "<Figure size 1000x600 with 1 Axes>"
      ]
     },
     "metadata": {},
     "output_type": "display_data"
    }
   ],
   "source": [
    "latest_year = df_long[\"Year\"].max()\n",
    "top10 = df_long[df_long[\"Year\"] == latest_year].sort_values(\"OOSC_rate\", ascending=False).head(10)\n",
    "\n",
    "plt.figure(figsize=(10,6))\n",
    "plt.barh(top10[\"Country Name\"], top10[\"OOSC_rate\"], color=\"salmon\")\n",
    "plt.title(f\"Top-10 Länder mit höchster OOSC-Rate ({latest_year})\")\n",
    "plt.xlabel(\"OOSC-Rate (%)\")\n",
    "plt.gca().invert_yaxis()\n",
    "plt.show()\n"
   ]
  },
  {
   "cell_type": "markdown",
   "id": "27c9c002",
   "metadata": {},
   "source": [
    "# 8️⃣ GDP-Dummy-Daten generieren\n",
    "\n",
    "Da der API-Download nicht funktionierte, generieren wir hier simulierte GDP-Daten, um den ML-Prozess üben zu können.\n"
   ]
  },
  {
   "cell_type": "code",
   "execution_count": 23,
   "id": "4052cc2e",
   "metadata": {},
   "outputs": [
    {
     "data": {
      "text/html": [
       "<div>\n",
       "<style scoped>\n",
       "    .dataframe tbody tr th:only-of-type {\n",
       "        vertical-align: middle;\n",
       "    }\n",
       "\n",
       "    .dataframe tbody tr th {\n",
       "        vertical-align: top;\n",
       "    }\n",
       "\n",
       "    .dataframe thead th {\n",
       "        text-align: right;\n",
       "    }\n",
       "</style>\n",
       "<table border=\"1\" class=\"dataframe\">\n",
       "  <thead>\n",
       "    <tr style=\"text-align: right;\">\n",
       "      <th></th>\n",
       "      <th>Country Name</th>\n",
       "      <th>Country Code</th>\n",
       "      <th>Year</th>\n",
       "      <th>GDP_per_capita</th>\n",
       "    </tr>\n",
       "  </thead>\n",
       "  <tbody>\n",
       "    <tr>\n",
       "      <th>2669</th>\n",
       "      <td>Argentina</td>\n",
       "      <td>ARG</td>\n",
       "      <td>1970</td>\n",
       "      <td>5993.428306</td>\n",
       "    </tr>\n",
       "    <tr>\n",
       "      <th>2680</th>\n",
       "      <td>Bangladesh</td>\n",
       "      <td>BGD</td>\n",
       "      <td>1970</td>\n",
       "      <td>4723.471398</td>\n",
       "    </tr>\n",
       "    <tr>\n",
       "      <th>2689</th>\n",
       "      <td>Brazil</td>\n",
       "      <td>BRA</td>\n",
       "      <td>1970</td>\n",
       "      <td>6295.377076</td>\n",
       "    </tr>\n",
       "    <tr>\n",
       "      <th>2693</th>\n",
       "      <td>Botswana</td>\n",
       "      <td>BWA</td>\n",
       "      <td>1970</td>\n",
       "      <td>8046.059713</td>\n",
       "    </tr>\n",
       "    <tr>\n",
       "      <th>2708</th>\n",
       "      <td>Costa Rica</td>\n",
       "      <td>CRI</td>\n",
       "      <td>1970</td>\n",
       "      <td>4531.693251</td>\n",
       "    </tr>\n",
       "  </tbody>\n",
       "</table>\n",
       "</div>"
      ],
      "text/plain": [
       "     Country Name Country Code  Year  GDP_per_capita\n",
       "2669    Argentina          ARG  1970     5993.428306\n",
       "2680   Bangladesh          BGD  1970     4723.471398\n",
       "2689       Brazil          BRA  1970     6295.377076\n",
       "2693     Botswana          BWA  1970     8046.059713\n",
       "2708   Costa Rica          CRI  1970     4531.693251"
      ]
     },
     "execution_count": 23,
     "metadata": {},
     "output_type": "execute_result"
    }
   ],
   "source": [
    "# GDP Dummy-Daten simulieren\n",
    "gdp_mock = df_long[[\"Country Name\", \"Country Code\", \"Year\"]].drop_duplicates().copy()\n",
    "\n",
    "np.random.seed(42)\n",
    "gdp_mock[\"GDP_per_capita\"] = np.random.normal(loc=5000, scale=2000, size=len(gdp_mock))\n",
    "gdp_mock[\"GDP_per_capita\"] = gdp_mock[\"GDP_per_capita\"].clip(lower=500, upper=50000)\n",
    "\n",
    "gdp_mock.head()\n"
   ]
  },
  {
   "cell_type": "markdown",
   "id": "706959c8",
   "metadata": {},
   "source": []
  },
  {
   "cell_type": "markdown",
   "id": "1971dffd",
   "metadata": {},
   "source": [
    "# 9️⃣ Merge OOSC + GDP\n",
    "\n",
    "Wir verbinden die OOSC-Daten mit den GDP-Daten, um ein vollständiges DataFrame für das ML-Modell zu erhalten.\n"
   ]
  },
  {
   "cell_type": "code",
   "execution_count": 24,
   "id": "9a5921ba",
   "metadata": {},
   "outputs": [
    {
     "name": "stdout",
     "output_type": "stream",
     "text": [
      "Shape nach Merge: (5107, 7)\n"
     ]
    },
    {
     "data": {
      "text/html": [
       "<div>\n",
       "<style scoped>\n",
       "    .dataframe tbody tr th:only-of-type {\n",
       "        vertical-align: middle;\n",
       "    }\n",
       "\n",
       "    .dataframe tbody tr th {\n",
       "        vertical-align: top;\n",
       "    }\n",
       "\n",
       "    .dataframe thead th {\n",
       "        text-align: right;\n",
       "    }\n",
       "</style>\n",
       "<table border=\"1\" class=\"dataframe\">\n",
       "  <thead>\n",
       "    <tr style=\"text-align: right;\">\n",
       "      <th></th>\n",
       "      <th>Country Name</th>\n",
       "      <th>Country Code</th>\n",
       "      <th>Indicator Name</th>\n",
       "      <th>Indicator Code</th>\n",
       "      <th>Year</th>\n",
       "      <th>OOSC_rate</th>\n",
       "      <th>GDP_per_capita</th>\n",
       "    </tr>\n",
       "  </thead>\n",
       "  <tbody>\n",
       "    <tr>\n",
       "      <th>0</th>\n",
       "      <td>Argentina</td>\n",
       "      <td>ARG</td>\n",
       "      <td>Children out of school (% of primary school age)</td>\n",
       "      <td>SE.PRM.UNER.ZS</td>\n",
       "      <td>1970</td>\n",
       "      <td>4.919240</td>\n",
       "      <td>5993.428306</td>\n",
       "    </tr>\n",
       "    <tr>\n",
       "      <th>1</th>\n",
       "      <td>Bangladesh</td>\n",
       "      <td>BGD</td>\n",
       "      <td>Children out of school (% of primary school age)</td>\n",
       "      <td>SE.PRM.UNER.ZS</td>\n",
       "      <td>1970</td>\n",
       "      <td>50.503681</td>\n",
       "      <td>4723.471398</td>\n",
       "    </tr>\n",
       "    <tr>\n",
       "      <th>2</th>\n",
       "      <td>Brazil</td>\n",
       "      <td>BRA</td>\n",
       "      <td>Children out of school (% of primary school age)</td>\n",
       "      <td>SE.PRM.UNER.ZS</td>\n",
       "      <td>1970</td>\n",
       "      <td>29.643890</td>\n",
       "      <td>6295.377076</td>\n",
       "    </tr>\n",
       "    <tr>\n",
       "      <th>3</th>\n",
       "      <td>Botswana</td>\n",
       "      <td>BWA</td>\n",
       "      <td>Children out of school (% of primary school age)</td>\n",
       "      <td>SE.PRM.UNER.ZS</td>\n",
       "      <td>1970</td>\n",
       "      <td>50.468609</td>\n",
       "      <td>8046.059713</td>\n",
       "    </tr>\n",
       "    <tr>\n",
       "      <th>4</th>\n",
       "      <td>Costa Rica</td>\n",
       "      <td>CRI</td>\n",
       "      <td>Children out of school (% of primary school age)</td>\n",
       "      <td>SE.PRM.UNER.ZS</td>\n",
       "      <td>1970</td>\n",
       "      <td>13.047480</td>\n",
       "      <td>4531.693251</td>\n",
       "    </tr>\n",
       "  </tbody>\n",
       "</table>\n",
       "</div>"
      ],
      "text/plain": [
       "  Country Name Country Code                                    Indicator Name  \\\n",
       "0    Argentina          ARG  Children out of school (% of primary school age)   \n",
       "1   Bangladesh          BGD  Children out of school (% of primary school age)   \n",
       "2       Brazil          BRA  Children out of school (% of primary school age)   \n",
       "3     Botswana          BWA  Children out of school (% of primary school age)   \n",
       "4   Costa Rica          CRI  Children out of school (% of primary school age)   \n",
       "\n",
       "   Indicator Code  Year  OOSC_rate  GDP_per_capita  \n",
       "0  SE.PRM.UNER.ZS  1970   4.919240     5993.428306  \n",
       "1  SE.PRM.UNER.ZS  1970  50.503681     4723.471398  \n",
       "2  SE.PRM.UNER.ZS  1970  29.643890     6295.377076  \n",
       "3  SE.PRM.UNER.ZS  1970  50.468609     8046.059713  \n",
       "4  SE.PRM.UNER.ZS  1970  13.047480     4531.693251  "
      ]
     },
     "execution_count": 24,
     "metadata": {},
     "output_type": "execute_result"
    }
   ],
   "source": [
    "df_ml = pd.merge(df_long, gdp_mock, on=[\"Country Name\", \"Country Code\", \"Year\"], how=\"inner\")\n",
    "print(\"Shape nach Merge:\", df_ml.shape)\n",
    "df_ml.head()\n"
   ]
  },
  {
   "cell_type": "markdown",
   "id": "1c3ae166",
   "metadata": {},
   "source": [
    "# 🔟 Multivariate Regression: OOSC_rate ~ GDP + Year\n",
    "\n",
    "Wir modellieren die OOSC-Rate als Funktion von GDP per capita und Jahr.\n"
   ]
  },
  {
   "cell_type": "code",
   "execution_count": 25,
   "id": "3b5e376b",
   "metadata": {},
   "outputs": [
    {
     "name": "stdout",
     "output_type": "stream",
     "text": [
      "Intercept: 818.5723740250277\n",
      "Coefficients:\n",
      "  GDP_per_capita: -0.0001\n",
      "  Year: -0.4025\n"
     ]
    }
   ],
   "source": [
    "# Features & Target\n",
    "X = df_ml[[\"GDP_per_capita\", \"Year\"]]\n",
    "y = df_ml[\"OOSC_rate\"]\n",
    "\n",
    "# Modell trainieren\n",
    "model = LinearRegression()\n",
    "model.fit(X, y)\n",
    "\n",
    "# Ergebnisse\n",
    "print(\"Intercept:\", model.intercept_)\n",
    "print(\"Coefficients:\")\n",
    "for feat, coef in zip(X.columns, model.coef_):\n",
    "    print(f\"  {feat}: {coef:.4f}\")\n"
   ]
  },
  {
   "cell_type": "markdown",
   "id": "a04853df",
   "metadata": {},
   "source": [
    "# ✅ Projektfazit\n",
    "\n",
    "Dieses Projekt demonstrierte eine vollständige ML-Workflow-Pipeline:\n",
    "\n",
    "1. **Data Acquisition & Wrangling**\n",
    "2. **Explorative Analyse & Visualisierung**\n",
    "3. **Multivariate Regression**"
   ]
  },
  {
   "cell_type": "markdown",
   "id": "ed3ba931",
   "metadata": {},
   "source": []
  }
 ],
 "metadata": {
  "kernelspec": {
   "display_name": "base",
   "language": "python",
   "name": "python3"
  },
  "language_info": {
   "codemirror_mode": {
    "name": "ipython",
    "version": 3
   },
   "file_extension": ".py",
   "mimetype": "text/x-python",
   "name": "python",
   "nbconvert_exporter": "python",
   "pygments_lexer": "ipython3",
   "version": "3.12.7"
  }
 },
 "nbformat": 4,
 "nbformat_minor": 5
}
